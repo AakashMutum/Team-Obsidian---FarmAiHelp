{
 "cells": [
  {
   "cell_type": "markdown",
   "id": "b2cb1f99",
   "metadata": {},
   "source": [
    "# Crop Data Analysis\n",
    "\n",
    "This notebook contains analysis of crop data, including:\n",
    "1. Data Loading and Preprocessing\n",
    "2. Exploratory Data Analysis\n",
    "3. Statistical Analysis\n",
    "4. Data Visualization\n",
    "5. Feature Analysis"
   ]
  },
  {
   "cell_type": "code",
   "execution_count": null,
   "id": "a926a948",
   "metadata": {},
   "outputs": [],
   "source": [
    "# Import required libraries\n",
    "import numpy as np\n",
    "import pandas as pd\n",
    "import matplotlib.pyplot as plt\n",
    "import seaborn as sns\n",
    "from scipy import stats\n",
    "import json\n",
    "\n",
    "# Set plotting style\n",
    "plt.style.use('seaborn')\n",
    "sns.set_palette(\"husl\")"
   ]
  },
  {
   "cell_type": "markdown",
   "id": "33c8ff2c",
   "metadata": {},
   "source": [
    "# Data Loading and Preprocessing\n",
    "\n",
    "First, we'll load the crop market history data and crop characteristics data from our data files."
   ]
  },
  {
   "cell_type": "code",
   "execution_count": null,
   "id": "e1c4e1c6",
   "metadata": {},
   "outputs": [],
   "source": [
    "# Load market history data\n",
    "market_history = pd.read_csv('../data/crop_market_history.csv')\n",
    "\n",
    "# Load crop characteristics data\n",
    "with open('../data/sample_data.json', 'r') as f:\n",
    "    crop_data = json.load(f)\n",
    "\n",
    "print(\"Market History Data Shape:\", market_history.shape)\n",
    "print(\"\\nMarket History Columns:\", market_history.columns.tolist())\n",
    "print(\"\\nCrops in characteristics data:\", list(crop_data.keys()))"
   ]
  },
  {
   "cell_type": "markdown",
   "id": "58f508f3",
   "metadata": {},
   "source": [
    "# Exploratory Data Analysis\n",
    "\n",
    "Let's analyze the market history data to understand price trends and trading patterns."
   ]
  },
  {
   "cell_type": "code",
   "execution_count": null,
   "id": "1e1f0968",
   "metadata": {},
   "outputs": [],
   "source": [
    "# Basic statistics of price and volume\n",
    "price_stats = market_history.groupby('crop')['price_per_ton'].describe()\n",
    "volume_stats = market_history.groupby('crop')['volume_traded'].describe()\n",
    "\n",
    "print(\"Price Statistics (per ton):\")\n",
    "print(price_stats)\n",
    "print(\"\\nVolume Statistics:\")\n",
    "print(volume_stats)"
   ]
  },
  {
   "cell_type": "code",
   "execution_count": null,
   "id": "784a033c",
   "metadata": {},
   "outputs": [],
   "source": [
    "# Plot price trends\n",
    "plt.figure(figsize=(12, 6))\n",
    "for crop in market_history['crop'].unique():\n",
    "    crop_data = market_history[market_history['crop'] == crop]\n",
    "    plt.plot(pd.to_datetime(crop_data['date']), crop_data['price_per_ton'], label=crop, marker='o')\n",
    "\n",
    "plt.title('Crop Price Trends')\n",
    "plt.xlabel('Date')\n",
    "plt.ylabel('Price per Ton')\n",
    "plt.legend()\n",
    "plt.xticks(rotation=45)\n",
    "plt.grid(True)\n",
    "plt.tight_layout()\n",
    "plt.show()"
   ]
  },
  {
   "cell_type": "markdown",
   "id": "83e0a484",
   "metadata": {},
   "source": [
    "# Statistical Analysis\n",
    "\n",
    "Let's perform some statistical analysis on the price and volume data."
   ]
  },
  {
   "cell_type": "code",
   "execution_count": null,
   "id": "bee76ef1",
   "metadata": {},
   "outputs": [],
   "source": [
    "# Calculate correlation between price and volume\n",
    "correlations = {}\n",
    "for crop in market_history['crop'].unique():\n",
    "    crop_data = market_history[market_history['crop'] == crop]\n",
    "    corr = stats.pearsonr(crop_data['price_per_ton'], crop_data['volume_traded'])\n",
    "    correlations[crop] = {'correlation': corr[0], 'p_value': corr[1]}\n",
    "\n",
    "print(\"Price-Volume Correlations:\")\n",
    "for crop, stats_data in correlations.items():\n",
    "    print(f\"\\n{crop}:\")\n",
    "    print(f\"Correlation coefficient: {stats_data['correlation']:.4f}\")\n",
    "    print(f\"P-value: {stats_data['p_value']:.4f}\")"
   ]
  },
  {
   "cell_type": "markdown",
   "id": "56ebd374",
   "metadata": {},
   "source": [
    "# Crop Characteristics Analysis\n",
    "\n",
    "Now let's analyze the characteristics of different crops from our sample data."
   ]
  },
  {
   "cell_type": "code",
   "execution_count": null,
   "id": "f1ea0964",
   "metadata": {},
   "outputs": [],
   "source": [
    "# Extract temperature ranges\n",
    "temp_ranges = {\n",
    "    crop: {\n",
    "        'min_temp': data['temperature_range']['min'],\n",
    "        'max_temp': data['temperature_range']['max']\n",
    "    }\n",
    "    for crop, data in crop_data.items()\n",
    "}\n",
    "\n",
    "# Create temperature range plot\n",
    "crops = list(temp_ranges.keys())\n",
    "min_temps = [temp_ranges[crop]['min_temp'] for crop in crops]\n",
    "max_temps = [temp_ranges[crop]['max_temp'] for crop in crops]\n",
    "\n",
    "plt.figure(figsize=(10, 6))\n",
    "plt.hlines(y=range(len(crops)), xmin=min_temps, xmax=max_temps, color='blue', alpha=0.4, linewidth=8)\n",
    "plt.plot(min_temps, range(len(crops)), 'o', color='blue', label='Minimum Temperature')\n",
    "plt.plot(max_temps, range(len(crops)), 'o', color='red', label='Maximum Temperature')\n",
    "\n",
    "plt.yticks(range(len(crops)), crops)\n",
    "plt.xlabel('Temperature (°C)')\n",
    "plt.title('Temperature Ranges for Different Crops')\n",
    "plt.legend()\n",
    "plt.grid(True, alpha=0.3)\n",
    "plt.tight_layout()\n",
    "plt.show()"
   ]
  },
  {
   "cell_type": "code",
   "execution_count": null,
   "id": "7dcd32a8",
   "metadata": {},
   "outputs": [],
   "source": [
    "# Analyze growth periods\n",
    "growth_data = {\n",
    "    crop: {\n",
    "        'total_days': data['growth_period']['days'],\n",
    "        'stages': len(data['growth_period']['stages'])\n",
    "    }\n",
    "    for crop, data in crop_data.items()\n",
    "}\n",
    "\n",
    "# Create DataFrame for growth period analysis\n",
    "growth_df = pd.DataFrame(growth_data).T\n",
    "growth_df.columns = ['Total Days', 'Number of Stages']\n",
    "\n",
    "# Plot growth period comparison\n",
    "plt.figure(figsize=(10, 6))\n",
    "ax = growth_df['Total Days'].plot(kind='bar')\n",
    "plt.title('Growth Period Comparison')\n",
    "plt.xlabel('Crop')\n",
    "plt.ylabel('Days to Maturity')\n",
    "plt.xticks(rotation=45)\n",
    "\n",
    "# Add value labels on top of bars\n",
    "for i, v in enumerate(growth_df['Total Days']):\n",
    "    ax.text(i, v, str(v), ha='center', va='bottom')\n",
    "\n",
    "plt.tight_layout()\n",
    "plt.show()"
   ]
  },
  {
   "cell_type": "markdown",
   "id": "b462f1b8",
   "metadata": {},
   "source": [
    "# Conclusions\n",
    "\n",
    "Based on our analysis:\n",
    "1. Price trends show variations across different crops\n",
    "2. There are correlations between price and trading volume\n",
    "3. Each crop has specific temperature requirements and growth periods\n",
    "4. Market dynamics differ by location and season"
   ]
  }
 ],
 "metadata": {
  "language_info": {
   "name": "python"
  }
 },
 "nbformat": 4,
 "nbformat_minor": 5
}
