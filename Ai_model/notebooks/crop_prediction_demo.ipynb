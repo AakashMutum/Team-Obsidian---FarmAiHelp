{
 "cells": [
  {
   "cell_type": "markdown",
   "id": "fd6b1498",
   "metadata": {},
   "source": [
    "# Crop Prediction System Demo\n",
    "\n",
    "This notebook demonstrates how to use the crop prediction system. We'll go through:\n",
    "1. Setting up the system\n",
    "2. Making predictions for your farm\n",
    "3. Analyzing the results"
   ]
  },
  {
   "cell_type": "code",
   "execution_count": null,
   "id": "03c07f93",
   "metadata": {},
   "outputs": [],
   "source": [
    "# First, let's import the required components\n",
    "from models.crop_prediction_model import CropPredictionModel\n",
    "from api.weather_api import WeatherAPI\n",
    "from api.market_api import MarketAPI\n",
    "\n",
    "# Initialize the model and APIs\n",
    "model = CropPredictionModel()\n",
    "weather_api = WeatherAPI()\n",
    "market_api = MarketAPI()"
   ]
  },
  {
   "cell_type": "markdown",
   "id": "0fc60c52",
   "metadata": {},
   "source": [
    "# Setting Up Your Farm Parameters\n",
    "\n",
    "Now, let's set up your farm's details. You'll need to provide:\n",
    "1. Location (city, state, district)\n",
    "2. Farm size (in hectares)\n",
    "3. Soil type (sandy, loamy, clay, silt, or sandy_loam)\n",
    "4. Crops you're interested in"
   ]
  },
  {
   "cell_type": "code",
   "execution_count": null,
   "id": "e8a3f70d",
   "metadata": {},
   "outputs": [],
   "source": [
    "# Enter your farm details here\n",
    "farm_details = {\n",
    "    'location': {\n",
    "        'city': 'Chennai',\n",
    "        'state': 'Tamil Nadu',\n",
    "        'district': 'Chennai'\n",
    "    },\n",
    "    'farm_size': 2.5,  # 2.5 hectares\n",
    "    'soil_type': 'loamy',  # Options: sandy, loamy, clay, silt, sandy_loam\n",
    "    'crops_of_interest': ['Rice', 'Onion', 'Wheat']\n",
    "}"
   ]
  },
  {
   "cell_type": "markdown",
   "id": "35b91438",
   "metadata": {},
   "source": [
    "# Getting Predictions\n",
    "\n",
    "Now we'll use the model to get comprehensive predictions for your farm. This will include:\n",
    "- Weather analysis\n",
    "- Soil suitability\n",
    "- Market trends\n",
    "- Profit predictions"
   ]
  },
  {
   "cell_type": "code",
   "execution_count": null,
   "id": "41931665",
   "metadata": {},
   "outputs": [],
   "source": [
    "# Get predictions for your farm\n",
    "predictions = model.get_comprehensive_prediction(\n",
    "    city=farm_details['location']['city'],\n",
    "    state=farm_details['location']['state'],\n",
    "    district=farm_details['location']['district'],\n",
    "    crops=farm_details['crops_of_interest'],\n",
    "    farm_size=farm_details['farm_size'],\n",
    "    soil_type=farm_details['soil_type']\n",
    ")\n",
    "\n",
    "# Display the results in a readable format\n",
    "for crop_analysis in predictions['crop_analysis']:\n",
    "    print(f\"\\n{'='*50}\")\n",
    "    print(f\"Analysis for {crop_analysis['crop']}:\")\n",
    "    print(f\"{'='*50}\")\n",
    "    \n",
    "    print(f\"\\nSuitability Score: {crop_analysis['suitability_score']:.2f}\")\n",
    "    \n",
    "    print(\"\\nMarket Analysis:\")\n",
    "    market = crop_analysis['market_analysis']\n",
    "    print(f\"Current Price: ₹{market['current_price']:.2f}\")\n",
    "    print(f\"Price Trend: {'Increasing' if market['price_trend'] > 0 else 'Decreasing'}\")\n",
    "    print(f\"Price Volatility: {market['price_volatility']:.2f}\")\n",
    "    \n",
    "    print(\"\\nProfit Analysis:\")\n",
    "    profit = crop_analysis['profit_analysis']\n",
    "    print(f\"Estimated Yield: {profit['estimated_yield']:.2f} tons\")\n",
    "    print(f\"Expected Revenue: ₹{profit['expected_revenue']:,.2f}\")\n",
    "    print(f\"Production Cost: ₹{profit['total_cost']:,.2f}\")\n",
    "    print(f\"Projected Profit: ₹{profit['projected_profit']:,.2f}\")\n",
    "    print(f\"ROI: {profit['roi']:.1f}%\")"
   ]
  },
  {
   "cell_type": "markdown",
   "id": "4f8f15f2",
   "metadata": {},
   "source": [
    "# How to Use This System\n",
    "\n",
    "1. **Setting Up**:\n",
    "   - Open this notebook in VS Code\n",
    "   - Make sure all required packages are installed\n",
    "   - Update the `farm_details` dictionary with your farm's information\n",
    "\n",
    "2. **Running the Analysis**:\n",
    "   - Click the \"Run All\" button at the top of the notebook, or\n",
    "   - Run each cell individually by clicking the play button next to it\n",
    "   - You can also press Shift+Enter to run a cell\n",
    "\n",
    "3. **Interpreting Results**:\n",
    "   - Suitability Score: 0-1 scale (higher is better)\n",
    "   - Price Trend: Shows if prices are increasing or decreasing\n",
    "   - ROI: Expected return on investment percentage\n",
    "   - Profit Analysis: Complete breakdown of costs and expected returns\n",
    "\n",
    "4. **Tips**:\n",
    "   - Try different crops by modifying the `crops_of_interest` list\n",
    "   - Adjust farm size to see how it affects profitability\n",
    "   - Compare different soil types to find optimal crops"
   ]
  }
 ],
 "metadata": {
  "language_info": {
   "name": "python"
  }
 },
 "nbformat": 4,
 "nbformat_minor": 5
}
