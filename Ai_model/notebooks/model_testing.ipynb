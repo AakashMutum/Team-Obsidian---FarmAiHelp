{
 "cells": [
  {
   "cell_type": "markdown",
   "id": "19031cd4",
   "metadata": {},
   "source": [
    "# Crop Prediction Model Testing\n",
    "\n",
    "This notebook contains testing and evaluation of the crop prediction model, including:\n",
    "1. Data Preparation\n",
    "2. Model Training\n",
    "3. Model Evaluation\n",
    "4. Feature Importance Analysis\n",
    "5. Cross-Validation"
   ]
  },
  {
   "cell_type": "code",
   "execution_count": null,
   "id": "fb1bbaf4",
   "metadata": {},
   "outputs": [],
   "source": [
    "# Import required libraries\n",
    "import numpy as np\n",
    "import pandas as pd\n",
    "import matplotlib.pyplot as plt\n",
    "import seaborn as sns\n",
    "from sklearn.model_selection import train_test_split, cross_val_score\n",
    "from sklearn.metrics import accuracy_score, classification_report, confusion_matrix\n",
    "from sklearn.preprocessing import StandardScaler\n",
    "import sys\n",
    "import os\n",
    "\n",
    "# Add project root to Python path\n",
    "project_root = os.path.abspath(os.path.join(os.getcwd(), '..'))\n",
    "sys.path.append(project_root)\n",
    "\n",
    "# Import project modules\n",
    "from models.crop_prediction_model import CropPredictionModel\n",
    "from utils.data_processor import DataProcessor"
   ]
  },
  {
   "cell_type": "markdown",
   "id": "327143eb",
   "metadata": {},
   "source": [
    "# Data Preparation\n",
    "\n",
    "Let's prepare our training data using weather, soil, and market features."
   ]
  },
  {
   "cell_type": "code",
   "execution_count": null,
   "id": "58051470",
   "metadata": {},
   "outputs": [],
   "source": [
    "# Generate synthetic data for testing\n",
    "np.random.seed(42)\n",
    "n_samples = 1000\n",
    "\n",
    "# Generate features\n",
    "features = {\n",
    "    'temperature': np.random.uniform(15, 35, n_samples),\n",
    "    'humidity': np.random.uniform(40, 80, n_samples),\n",
    "    'rainfall': np.random.uniform(50, 200, n_samples),\n",
    "    'soil_ph': np.random.uniform(5.5, 7.5, n_samples),\n",
    "    'nitrogen': np.random.uniform(20, 60, n_samples),\n",
    "    'phosphorus': np.random.uniform(10, 50, n_samples),\n",
    "    'potassium': np.random.uniform(20, 50, n_samples),\n",
    "    'market_price': np.random.uniform(300, 500, n_samples)\n",
    "}\n",
    "\n",
    "# Create feature matrix\n",
    "X = pd.DataFrame(features)\n",
    "\n",
    "# Generate target labels (simplified for testing)\n",
    "conditions = [\n",
    "    (X['temperature'] > 25) & (X['humidity'] > 60),\n",
    "    (X['temperature'] <= 25) & (X['soil_ph'] >= 6.5),\n",
    "    (X['rainfall'] > 150) & (X['humidity'] > 70)\n",
    "]\n",
    "choices = ['rice', 'wheat', 'corn']\n",
    "y = np.select(conditions, choices, default='wheat')\n",
    "\n",
    "print(\"Feature matrix shape:\", X.shape)\n",
    "print(\"Number of samples per crop:\")\n",
    "print(pd.Series(y).value_counts())"
   ]
  },
  {
   "cell_type": "markdown",
   "id": "48a69eff",
   "metadata": {},
   "source": [
    "# Model Training\n",
    "\n",
    "Now let's train our crop prediction model and evaluate its performance."
   ]
  },
  {
   "cell_type": "code",
   "execution_count": null,
   "id": "5b12706d",
   "metadata": {},
   "outputs": [],
   "source": []
  }
 ],
 "metadata": {
  "language_info": {
   "name": "python"
  }
 },
 "nbformat": 4,
 "nbformat_minor": 5
}
